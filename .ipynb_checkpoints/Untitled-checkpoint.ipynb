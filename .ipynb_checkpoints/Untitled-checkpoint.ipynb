{
 "cells": [
  {
   "cell_type": "code",
   "execution_count": 2,
   "id": "8ce98c84-7ff0-4a75-9ded-7ac108eace52",
   "metadata": {},
   "outputs": [
    {
     "name": "stdout",
     "output_type": "stream",
     "text": [
      " * Serving Flask app '__main__'\n",
      " * Debug mode: on\n"
     ]
    },
    {
     "name": "stderr",
     "output_type": "stream",
     "text": [
      "WARNING: This is a development server. Do not use it in a production deployment. Use a production WSGI server instead.\n",
      " * Running on http://127.0.0.1:5000\n",
      "Press CTRL+C to quit\n",
      " * Restarting with stat\n"
     ]
    },
    {
     "ename": "SystemExit",
     "evalue": "1",
     "output_type": "error",
     "traceback": [
      "An exception has occurred, use %tb to see the full traceback.\n",
      "\u001b[1;31mSystemExit\u001b[0m\u001b[1;31m:\u001b[0m 1\n"
     ]
    }
   ],
   "source": [
    "from flask import Flask, render_template\n",
    "import pandas as pd\n",
    "from sklearn.preprocessing import LabelEncoder\n",
    "import os\n",
    "\n",
    "app = Flask(__name__)\n",
    "\n",
    "# Define the path to the dataset\n",
    "dataset_path = os.path.join(os.getcwd(), 'dataset.csv')\n",
    "\n",
    "@app.route('/')\n",
    "def index():\n",
    "    # Load the dataset\n",
    "    df = pd.read_csv(dataset_path)\n",
    "\n",
    "    # List of categorical columns to be encoded\n",
    "    categorical_cols = ['Disease']\n",
    "\n",
    "    # Create a LabelEncoder instance for the 'Disease' column\n",
    "    label_encoders = {col: LabelEncoder() for col in categorical_cols}\n",
    "    categorical_dicts = {}\n",
    "\n",
    "    # Encode the 'Disease' column\n",
    "    df['Disease'] = label_encoders['Disease'].fit_transform(df['Disease'])\n",
    "    categorical_dicts['Disease'] = {label: value for label, value in zip(label_encoders['Disease'].classes_, range(len(label_encoders['Disease'].classes_)))}\n",
    "    print(\"HELLO\")\n",
    "    # Store the unique encoded values for 'Disease' column\n",
    "    Disease_lists = df['Disease'].unique().tolist()\n",
    "\n",
    "    # Render the HTML form with the Disease list passed as context\n",
    "    return render_template('disease_form.html', Disease_lists=Disease_lists)\n",
    "\n",
    "if __name__ == '__main__':\n",
    "    app.run(debug=True)\n"
   ]
  },
  {
   "cell_type": "code",
   "execution_count": null,
   "id": "bba58021-06a9-4bfc-94a6-f1e17b56080c",
   "metadata": {},
   "outputs": [],
   "source": []
  }
 ],
 "metadata": {
  "kernelspec": {
   "display_name": "Python 3 (ipykernel)",
   "language": "python",
   "name": "python3"
  },
  "language_info": {
   "codemirror_mode": {
    "name": "ipython",
    "version": 3
   },
   "file_extension": ".py",
   "mimetype": "text/x-python",
   "name": "python",
   "nbconvert_exporter": "python",
   "pygments_lexer": "ipython3",
   "version": "3.11.4"
  }
 },
 "nbformat": 4,
 "nbformat_minor": 5
}
